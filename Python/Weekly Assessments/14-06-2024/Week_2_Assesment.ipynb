{
  "nbformat": 4,
  "nbformat_minor": 0,
  "metadata": {
    "colab": {
      "provenance": [],
      "authorship_tag": "ABX9TyMRuGAD6dDJPepddCLpUzQd",
      "include_colab_link": true
    },
    "kernelspec": {
      "name": "python3",
      "display_name": "Python 3"
    },
    "language_info": {
      "name": "python"
    }
  },
  "cells": [
    {
      "cell_type": "markdown",
      "metadata": {
        "id": "view-in-github",
        "colab_type": "text"
      },
      "source": [
        "<a href=\"https://colab.research.google.com/github/Charan0622/Charan_Scifor/blob/main/Week_2_Assesment.ipynb\" target=\"_parent\"><img src=\"https://colab.research.google.com/assets/colab-badge.svg\" alt=\"Open In Colab\"/></a>"
      ]
    },
    {
      "cell_type": "markdown",
      "source": [
        "# What is Encapsulation?\n",
        "Encapsulation is a key concept in OOP that restricts direct access to some of an object's components, which can prevent the accidental modification of data. It bundles the data and the methods that operate on the data into a single unit or class and controls access to this data using access modifiers.\n",
        "\n",
        "Private attributes: Prefixed with two underscores (__), these attributes are not accessible directly from outside the class.\n",
        "Protected attributes: Prefixed with a single underscore (_), these attributes are intended to be accessed only within the class and its subclasses.\n",
        "\n",
        "In this example, the attribute __value is private and can only be accessed or modified through the public methods get_value and set_value. This ensures that the value cannot be set to a negative number directly."
      ],
      "metadata": {
        "id": "dJy4s5_JMTjk"
      }
    },
    {
      "cell_type": "code",
      "source": [
        "#Simple Example of Encapsulation\n",
        "#Let's start with a simple example to understand encapsulation.\n",
        "\n",
        "class SimpleClass:\n",
        "    def __init__(self, value):\n",
        "        self.__value = value  # Private attribute\n",
        "\n",
        "    def get_value(self):\n",
        "        return self.__value  # Public method to access the private attribute\n",
        "\n",
        "    def set_value(self, value):\n",
        "        if value >= 0:\n",
        "            self.__value = value  # Public method to modify the private attribute\n",
        "        else:\n",
        "            raise ValueError(\"Value must be non-negative\")\n",
        "\n",
        "# Usage\n",
        "if __name__ == \"__main__\":\n",
        "    initial_value = int(input(\"Enter an initial value: \"))\n",
        "    obj = SimpleClass(initial_value)\n",
        "    print(f\"Initial value: {obj.get_value()}\")\n",
        "\n",
        "    new_value = int(input(\"Enter a new value: \"))\n",
        "    obj.set_value(new_value)\n",
        "    print(f\"Updated value: {obj.get_value()}\")\n"
      ],
      "metadata": {
        "colab": {
          "base_uri": "https://localhost:8080/"
        },
        "id": "E-tsGS03MYrH",
        "outputId": "ba5f2512-0ccd-4fdc-b89c-73196fb78f20"
      },
      "execution_count": 3,
      "outputs": [
        {
          "output_type": "stream",
          "name": "stdout",
          "text": [
            "Enter an initial value: 22\n",
            "Initial value: 22\n",
            "Enter a new value: 06\n",
            "Updated value: 6\n"
          ]
        }
      ]
    },
    {
      "cell_type": "markdown",
      "source": [
        "Moderate Real-Life Example\n",
        "Now, let's consider a more real-life example. We will create a BankAccount class that encapsulates the account balance and provides methods to deposit and withdraw money.\n",
        "\n",
        "In this example, the BankAccount class encapsulates the __owner and __balance attributes, which cannot be accessed directly from outside the class. The balance can only be changed through the deposit and withdraw methods, ensuring the integrity of the data."
      ],
      "metadata": {
        "id": "oCN4RTbAMtxc"
      }
    },
    {
      "cell_type": "code",
      "source": [
        "class BankAccount:\n",
        "    def __init__(self, owner, balance=0):\n",
        "        self.__owner = owner  # Private attribute\n",
        "        self.__balance = balance  # Private attribute\n",
        "\n",
        "    def get_balance(self):\n",
        "        return self.__balance  # Public method to access the private attribute\n",
        "\n",
        "    def deposit(self, amount):\n",
        "        if amount > 0:\n",
        "            self.__balance += amount  # Public method to modify the private attribute\n",
        "        else:\n",
        "            raise ValueError(\"Deposit amount must be positive\")\n",
        "\n",
        "    def withdraw(self, amount):\n",
        "        if 0 < amount <= self.__balance:\n",
        "            self.__balance -= amount  # Public method to modify the private attribute\n",
        "        else:\n",
        "            raise ValueError(\"Invalid withdrawal amount\")\n",
        "\n",
        "    def get_owner(self):\n",
        "        return self.__owner  # Public method to access the private attribute\n",
        "\n",
        "# Usage\n",
        "if __name__ == \"__main__\":\n",
        "    owner = input(\"Enter the account owner's name: \")\n",
        "    initial_balance = float(input(\"Enter the initial balance: \"))\n",
        "    account = BankAccount(owner, initial_balance)\n",
        "\n",
        "    print(f\"Account Owner: {account.get_owner()}\")\n",
        "    print(f\"Initial Balance: {account.get_balance()}\")\n",
        "\n",
        "    deposit_amount = float(input(\"Enter the deposit amount: \"))\n",
        "    account.deposit(deposit_amount)\n",
        "    print(f\"Balance after deposit: {account.get_balance()}\")\n",
        "\n",
        "    withdraw_amount = float(input(\"Enter the withdrawal amount: \"))\n",
        "    account.withdraw(withdraw_amount)\n",
        "    print(f\"Balance after withdrawal: {account.get_balance()}\")\n"
      ],
      "metadata": {
        "colab": {
          "base_uri": "https://localhost:8080/"
        },
        "id": "Y6khUssLMw_1",
        "outputId": "c96b671d-db44-4a40-aa42-f2938fbe4e67"
      },
      "execution_count": 4,
      "outputs": [
        {
          "output_type": "stream",
          "name": "stdout",
          "text": [
            "Enter the account owner's name: Charan\n",
            "Enter the initial balance: 10000\n",
            "Account Owner: Charan\n",
            "Initial Balance: 10000.0\n",
            "Enter the deposit amount: 5000\n",
            "Balance after deposit: 15000.0\n",
            "Enter the withdrawal amount: 2000\n",
            "Balance after withdrawal: 13000.0\n"
          ]
        }
      ]
    }
  ]
}
