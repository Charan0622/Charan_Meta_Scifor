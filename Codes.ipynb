{
  "nbformat": 4,
  "nbformat_minor": 0,
  "metadata": {
    "colab": {
      "provenance": [],
      "authorship_tag": "ABX9TyPAyJFXfZTJbi13N+ynC5n2",
      "include_colab_link": true
    },
    "kernelspec": {
      "name": "python3",
      "display_name": "Python 3"
    },
    "language_info": {
      "name": "python"
    }
  },
  "cells": [
    {
      "cell_type": "markdown",
      "metadata": {
        "id": "view-in-github",
        "colab_type": "text"
      },
      "source": [
        "<a href=\"https://colab.research.google.com/github/Charan0622/Charan_Scifor/blob/main/Codes.ipynb\" target=\"_parent\"><img src=\"https://colab.research.google.com/assets/colab-badge.svg\" alt=\"Open In Colab\"/></a>"
      ]
    },
    {
      "cell_type": "markdown",
      "source": [
        "# All Levels of Inheritance: Shapes Example"
      ],
      "metadata": {
        "id": "H5tsROUn3v4A"
      }
    },
    {
      "cell_type": "code",
      "source": [
        "# code for levels of inheritance\n",
        "class Shape:\n",
        "    def __init__(self, name):\n",
        "        self.name = name\n",
        "\n",
        "    def display_name(self):\n",
        "        return f\"Shape: {self.name}\"\n",
        "\n",
        "# Derived class (subclass) inheriting from Shape\n",
        "class Polygon(Shape):\n",
        "    def __init__(self, name, sides):\n",
        "        super().__init__(name)\n",
        "        self.sides = sides\n",
        "\n",
        "    def display_info(self):\n",
        "        return f\"{self.name} is a polygon with {self.sides} sides\"\n",
        "\n",
        "# Derived class (subclass) inheriting from Polygon\n",
        "class Triangle(Polygon):\n",
        "    def __init__(self, sides):\n",
        "        super().__init__(\"Triangle\", sides)\n",
        "\n",
        "    def display_info(self):\n",
        "        return f\"Triangle is a polygon with {self.sides} sides, typically with three sides\"\n",
        "\n",
        "# Test the classes\n",
        "if __name__ == \"__main__\":\n",
        "    shape = Shape(\"Generic Shape\")\n",
        "    print(shape.display_name())\n",
        "\n",
        "    polygon = Polygon(\"Polygon\", 5)\n",
        "    print(polygon.display_name())\n",
        "    print(polygon.display_info())\n",
        "\n",
        "    triangle = Triangle(3)\n",
        "    print(triangle.display_name())\n",
        "    print(triangle.display_info())\n"
      ],
      "metadata": {
        "colab": {
          "base_uri": "https://localhost:8080/"
        },
        "id": "Da6OFTUu5aUs",
        "outputId": "319060d5-cce5-4269-873f-3e73aa90c4b7"
      },
      "execution_count": 3,
      "outputs": [
        {
          "output_type": "stream",
          "name": "stdout",
          "text": [
            "Shape: Generic Shape\n",
            "Shape: Polygon\n",
            "Polygon is a polygon with 5 sides\n",
            "Shape: Triangle\n",
            "Triangle is a polygon with 3 sides, typically with three sides\n"
          ]
        }
      ]
    },
    {
      "cell_type": "markdown",
      "source": [
        "# Method Overloading: Banking System Example"
      ],
      "metadata": {
        "id": "MVe7FqfK5t4e"
      }
    },
    {
      "cell_type": "code",
      "source": [
        "class BankAccount:\n",
        "    def __init__(self, account_holder):\n",
        "        self.account_holder = account_holder\n",
        "        self.balance = 0\n",
        "\n",
        "    def deposit(self, amount, currency='USD'):\n",
        "        if currency == 'USD':\n",
        "            self.balance += amount\n",
        "        elif currency == 'EUR':\n",
        "            self.balance += amount * 1.1  # Example conversion rate\n",
        "        print(f\"Deposited {amount} {currency}. New balance is {self.balance} USD.\")\n",
        "\n",
        "# User Input\n",
        "account_holder = input(\"Enter account holder's name: \")\n",
        "amount = float(input(\"Enter deposit amount: \"))\n",
        "currency = input(\"Enter currency (USD/EUR): \")\n",
        "\n",
        "# Object Creation\n",
        "account = BankAccount(account_holder)\n",
        "\n",
        "# Perform Deposit\n",
        "account.deposit(amount, currency)\n"
      ],
      "metadata": {
        "colab": {
          "base_uri": "https://localhost:8080/"
        },
        "id": "atFmRSVz5KhR",
        "outputId": "4c87abcc-74fa-4337-878c-399e4fda5514"
      },
      "execution_count": 5,
      "outputs": [
        {
          "output_type": "stream",
          "name": "stdout",
          "text": [
            "Enter account holder's name: mark\n",
            "Enter deposit amount: 50\n",
            "Enter currency (USD/EUR): usd\n",
            "Deposited 50.0 usd. New balance is 0 USD.\n"
          ]
        }
      ]
    },
    {
      "cell_type": "markdown",
      "source": [],
      "metadata": {
        "id": "TmTrh1JY55MO"
      }
    },
    {
      "cell_type": "markdown",
      "source": [
        "# Method Overriding: Employee Example"
      ],
      "metadata": {
        "id": "RLuE7ygA6Ei6"
      }
    },
    {
      "cell_type": "code",
      "source": [
        "class Employee:\n",
        "    def __init__(self, name, salary):\n",
        "        self.name = name\n",
        "        self.salary = salary\n",
        "\n",
        "    def display(self):\n",
        "        print(f\"Employee Name: {self.name}\")\n",
        "        print(f\"Salary: {self.salary}\")\n",
        "\n",
        "class Manager(Employee):\n",
        "    def __init__(self, name, salary, bonus):\n",
        "        super().__init__(name, salary)\n",
        "        self.bonus = bonus\n",
        "\n",
        "    def display(self):\n",
        "        super().display()\n",
        "        print(f\"Bonus: {self.bonus}\")\n",
        "\n",
        "# User Input\n",
        "name = input(\"Enter employee name: \")\n",
        "salary = float(input(\"Enter salary: \"))\n",
        "bonus = float(input(\"Enter bonus: \"))\n",
        "\n",
        "# Object Creation\n",
        "manager = Manager(name, salary, bonus)\n",
        "\n",
        "# Display Information\n",
        "manager.display()\n"
      ],
      "metadata": {
        "colab": {
          "base_uri": "https://localhost:8080/"
        },
        "id": "wtLuwdA25Ph5",
        "outputId": "3ba6fbd0-bbcc-4891-aedd-b157b0869d2f"
      },
      "execution_count": 6,
      "outputs": [
        {
          "output_type": "stream",
          "name": "stdout",
          "text": [
            "Enter employee name: Jack\n",
            "Enter salary: 20000\n",
            "Enter bonus: 5000\n",
            "Employee Name: Jack\n",
            "Salary: 20000.0\n",
            "Bonus: 5000.0\n"
          ]
        }
      ]
    }
  ]
}